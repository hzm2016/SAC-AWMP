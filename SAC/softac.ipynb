{
 "cells": [
  {
   "cell_type": "code",
   "execution_count": 33,
   "metadata": {},
   "outputs": [],
   "source": [
    "import numpy as np\n",
    "import gym\n",
    "import gym.spaces\n",
    "import torch\n",
    "import torch.optim as optim\n",
    "import torch.nn as nn\n",
    "\n",
    "from gym_utils import get_action_bound, get_state_dimension, get_action_dimension\n",
    "from replay_buffer import ReplayBuffer\n",
    "from model import VCritic, SoftQCritic, SACActor, NormalizedActions\n",
    "from tqdm import trange\n",
    "from IPython.display import clear_output\n",
    "import matplotlib.pyplot as plt\n",
    "%matplotlib inline"
   ]
  },
  {
   "cell_type": "code",
   "execution_count": 34,
   "metadata": {},
   "outputs": [],
   "source": [
    "mean_lambda = 1e-3\n",
    "std_lambda = 1e-3\n",
    "z_lambda = 0.0\n",
    "\n",
    "cuda_avail = torch.cuda.is_available()\n",
    "device = torch.device(\"cuda\" if cuda_avail else \"cpu\")"
   ]
  },
  {
   "cell_type": "code",
   "execution_count": 35,
   "metadata": {},
   "outputs": [],
   "source": [
    "def plot(rewards):\n",
    "    clear_output(True)\n",
    "    rewards = np.array(rewards)\n",
    "    plt.plot(rewards)\n",
    "    plt.show()"
   ]
  },
  {
   "cell_type": "code",
   "execution_count": 36,
   "metadata": {},
   "outputs": [],
   "source": [
    "def get_loss(val, next_val):\n",
    "    criterion = nn.MSELoss()\n",
    "    \n",
    "    return criterion(val, next_val)"
   ]
  },
  {
   "cell_type": "code",
   "execution_count": 37,
   "metadata": {},
   "outputs": [],
   "source": [
    "def send_to_device(s, a, r, next_s, done):\n",
    "    s = torch.FloatTensor(s).to(device)\n",
    "    a = torch.FloatTensor(a).to(device)\n",
    "    r = torch.FloatTensor(r).unsqueeze(1).to(device)\n",
    "    next_s = torch.FloatTensor(next_s).to(device)\n",
    "    done = torch.FloatTensor(np.float32(done)).unsqueeze(1).to(device)\n",
    "    \n",
    "    return s, a, r, next_s, done"
   ]
  },
  {
   "cell_type": "code",
   "execution_count": 38,
   "metadata": {},
   "outputs": [],
   "source": [
    "def run_experiment(actor, buffer, v_critic, target_v_critic, q_critic, env, gamma, v_optimizer, q_optimizer, actor_optimizer, max_steps, n_epi, evaluation=False):\n",
    "    global_step = 0\n",
    "    final_r = []\n",
    "    #number of episodes\n",
    "    for i in trange(n_epi):\n",
    "        state = env.reset()\n",
    "        done = False\n",
    "        total_reward = 0\n",
    "        #max number of steps per episode\n",
    "        for _ in range(max_steps):\n",
    "            action = actor.get_action(state)\n",
    "            #action = np.clip(action.flatten(), -2., 2.)\n",
    "            next_state, reward, done, _ = env.step(action)\n",
    "            if not evaluation:\n",
    "                buffer.add(state, action, reward, next_state, done)\n",
    "\n",
    "                if 256 < len(buffer):\n",
    "                    s, a, r, next_s, d = buffer.sample_batch(256)\n",
    "                    s, a, r, next_s, d = send_to_device(s, a, r, next_s, d) \n",
    "\n",
    "                    q = q_critic(s, a)\n",
    "                    v = v_critic(s)\n",
    "                    new_a, log_prob, z, mean, log_std = actor.evaluate(s)\n",
    "\n",
    "                    target_v = target_v_critic(next_s)\n",
    "            \n",
    "                    next_q = r + (1 - d) * gamma * target_v \n",
    "                    q_loss = get_loss(q, next_q.detach())\n",
    "\n",
    "                    new_q = q_critic(s, new_a)\n",
    "                    next_v = new_q - log_prob\n",
    "                    v_loss = get_loss(v, next_v.detach())\n",
    "\n",
    "                    log_prob_target = new_q - v\n",
    "                    actor_loss = (log_prob * (log_prob - log_prob_target).detach()).mean()\n",
    "\n",
    "                    #regularization losses\n",
    "                    mean_loss = mean_lambda * mean.pow(2).mean()\n",
    "                    std_loss = std_lambda * log_std.pow(2).mean()\n",
    "                    z_loss = z_lambda * z.pow(2).sum(1).mean()\n",
    "                    actor_loss += mean_loss + std_loss + z_loss\n",
    "\n",
    "                    v_critic.train(v_loss, v_optimizer)\n",
    "                    q_critic.train(q_loss, q_optimizer)\n",
    "                    actor.train(actor_loss, actor_optimizer)\n",
    "                    \n",
    "                    #soft update (can be done using soft-update function in model)\n",
    "                    for target_param, param in zip(target_v_critic.parameters(), v_critic.parameters()):\n",
    "                        target_param.data.copy_(target_param.data * (1.0 - 5*1e-3) + param.data * 5*1e-3)\n",
    "\n",
    "            global_step += 1\n",
    "            state = next_state\n",
    "            total_reward += reward\n",
    "            \n",
    "            if global_step%500==0:\n",
    "                plot(final_r)\n",
    "\n",
    "            if done:\n",
    "                break\n",
    "        \n",
    "        final_r.append(total_reward)\n",
    "\n",
    "    return final_r\n"
   ]
  },
  {
   "cell_type": "code",
   "execution_count": 39,
   "metadata": {},
   "outputs": [],
   "source": [
    "\n",
    "def main(arg):\n",
    "    train_rewards = []\n",
    "    num_steps = []\n",
    "    test_rewards = []\n",
    "\n",
    "    for i in range(1):\n",
    "        env = NormalizedActions(gym.make(arg.env))\n",
    "        env.seed(np.random.randint(12345))\n",
    "        a_dim = get_action_dimension(env)            \n",
    "        s_dim = get_state_dimension(env)\n",
    "\n",
    "        buffer = ReplayBuffer(size=arg.buffer, a_dim=a_dim, a_dtype=np.float32, s_dim=s_dim, s_dtype=np.float32, store_mu=False)\n",
    "\n",
    "        v_critic = VCritic().to(device)\n",
    "        target_v_critic = VCritic().to(device)\n",
    "\n",
    "        softq_critic = SoftQCritic().to(device)\n",
    "\n",
    "        SAC_actor = SACActor().to(device)\n",
    "\n",
    "        v_optimizer = optim.Adam(v_critic.parameters(), lr=3e-4)\n",
    "        q_optimizer = optim.Adam(softq_critic.parameters(), lr=3e-4)\n",
    "        actor_optimizer = optim.Adam(SAC_actor.parameters(), lr=3e-4)\n",
    "\n",
    "        rewards = run_experiment(SAC_actor, buffer, v_critic, target_v_critic, softq_critic, env, arg.discount, v_optimizer, q_optimizer, actor_optimizer, arg.max, arg.n_epi)"
   ]
  },
  {
   "cell_type": "code",
   "execution_count": 40,
   "metadata": {},
   "outputs": [
    {
     "data": {
      "image/png": "[encoded data removed]",
      "text/plain": [
       "<Figure size 432x288 with 1 Axes>"
      ]
     },
     "metadata": {},
     "output_type": "display_data"
    },
    {
     "name": "stderr",
     "output_type": "stream",
     "text": [
      "\n",
      " 45%|████▌     | 450/1000 [13:22<16:21,  1.78s/it]\u001b[A"
     ]
    },
    {
     "ename": "KeyboardInterrupt",
     "evalue": "",
     "output_type": "error",
     "traceback": [
      "\u001b[0;31m---------------------------------------------------------------------------\u001b[0m",
      "\u001b[0;31mKeyboardInterrupt\u001b[0m                         Traceback (most recent call last)",
      "\u001b[0;32m<ipython-input-40-bbf964ffb4b2>\u001b[0m in \u001b[0;36m<module>\u001b[0;34m()\u001b[0m\n\u001b[1;32m     12\u001b[0m     \u001b[0margparser\u001b[0m\u001b[0;34m.\u001b[0m\u001b[0madd_argument\u001b[0m\u001b[0;34m(\u001b[0m\u001b[0;34m'-p'\u001b[0m\u001b[0;34m,\u001b[0m \u001b[0;34m'--n_epi'\u001b[0m\u001b[0;34m,\u001b[0m \u001b[0mdefault\u001b[0m\u001b[0;34m=\u001b[0m\u001b[0mint\u001b[0m\u001b[0;34m(\u001b[0m\u001b[0;36m1000\u001b[0m\u001b[0;34m)\u001b[0m\u001b[0;34m,\u001b[0m \u001b[0mhelp\u001b[0m\u001b[0;34m=\u001b[0m\u001b[0;34m'Number of episodes (defualt: 1000).'\u001b[0m\u001b[0;34m)\u001b[0m\u001b[0;34m\u001b[0m\u001b[0m\n\u001b[1;32m     13\u001b[0m     \u001b[0marg\u001b[0m \u001b[0;34m=\u001b[0m \u001b[0margparser\u001b[0m\u001b[0;34m.\u001b[0m\u001b[0mparse_args\u001b[0m\u001b[0;34m(\u001b[0m\u001b[0;34m)\u001b[0m\u001b[0;34m\u001b[0m\u001b[0m\n\u001b[0;32m---> 14\u001b[0;31m     \u001b[0mmain\u001b[0m\u001b[0;34m(\u001b[0m\u001b[0marg\u001b[0m\u001b[0;34m)\u001b[0m\u001b[0;34m\u001b[0m\u001b[0m\n\u001b[0m",
      "\u001b[0;32m<ipython-input-39-b8b6ad7a26f0>\u001b[0m in \u001b[0;36mmain\u001b[0;34m(arg)\u001b[0m\n\u001b[1;32m     24\u001b[0m         \u001b[0mactor_optimizer\u001b[0m \u001b[0;34m=\u001b[0m \u001b[0moptim\u001b[0m\u001b[0;34m.\u001b[0m\u001b[0mAdam\u001b[0m\u001b[0;34m(\u001b[0m\u001b[0mSAC_actor\u001b[0m\u001b[0;34m.\u001b[0m\u001b[0mparameters\u001b[0m\u001b[0;34m(\u001b[0m\u001b[0;34m)\u001b[0m\u001b[0;34m,\u001b[0m \u001b[0mlr\u001b[0m\u001b[0;34m=\u001b[0m\u001b[0;36m3e-4\u001b[0m\u001b[0;34m)\u001b[0m\u001b[0;34m\u001b[0m\u001b[0m\n\u001b[1;32m     25\u001b[0m \u001b[0;34m\u001b[0m\u001b[0m\n\u001b[0;32m---> 26\u001b[0;31m         \u001b[0mrewards\u001b[0m \u001b[0;34m=\u001b[0m \u001b[0mrun_experiment\u001b[0m\u001b[0;34m(\u001b[0m\u001b[0mSAC_actor\u001b[0m\u001b[0;34m,\u001b[0m \u001b[0mbuffer\u001b[0m\u001b[0;34m,\u001b[0m \u001b[0mv_critic\u001b[0m\u001b[0;34m,\u001b[0m \u001b[0mtarget_v_critic\u001b[0m\u001b[0;34m,\u001b[0m \u001b[0msoftq_critic\u001b[0m\u001b[0;34m,\u001b[0m \u001b[0menv\u001b[0m\u001b[0;34m,\u001b[0m \u001b[0marg\u001b[0m\u001b[0;34m.\u001b[0m\u001b[0mdiscount\u001b[0m\u001b[0;34m,\u001b[0m \u001b[0mv_optimizer\u001b[0m\u001b[0;34m,\u001b[0m \u001b[0mq_optimizer\u001b[0m\u001b[0;34m,\u001b[0m \u001b[0mactor_optimizer\u001b[0m\u001b[0;34m,\u001b[0m \u001b[0marg\u001b[0m\u001b[0;34m.\u001b[0m\u001b[0mmax\u001b[0m\u001b[0;34m,\u001b[0m \u001b[0marg\u001b[0m\u001b[0;34m.\u001b[0m\u001b[0mn_epi\u001b[0m\u001b[0;34m)\u001b[0m\u001b[0;34m\u001b[0m\u001b[0m\n\u001b[0m",
      "\u001b[0;32m<ipython-input-38-9e86d1412d9d>\u001b[0m in \u001b[0;36mrun_experiment\u001b[0;34m(actor, buffer, v_critic, target_v_critic, q_critic, env, gamma, v_optimizer, q_optimizer, actor_optimizer, max_steps, n_epi, evaluation)\u001b[0m\n\u001b[1;32m     41\u001b[0m                     \u001b[0mactor_loss\u001b[0m \u001b[0;34m+=\u001b[0m \u001b[0mmean_loss\u001b[0m \u001b[0;34m+\u001b[0m \u001b[0mstd_loss\u001b[0m \u001b[0;34m+\u001b[0m \u001b[0mz_loss\u001b[0m\u001b[0;34m\u001b[0m\u001b[0m\n\u001b[1;32m     42\u001b[0m \u001b[0;34m\u001b[0m\u001b[0m\n\u001b[0;32m---> 43\u001b[0;31m                     \u001b[0mv_critic\u001b[0m\u001b[0;34m.\u001b[0m\u001b[0mtrain\u001b[0m\u001b[0;34m(\u001b[0m\u001b[0mv_loss\u001b[0m\u001b[0;34m,\u001b[0m \u001b[0mv_optimizer\u001b[0m\u001b[0;34m)\u001b[0m\u001b[0;34m\u001b[0m\u001b[0m\n\u001b[0m\u001b[1;32m     44\u001b[0m                     \u001b[0mq_critic\u001b[0m\u001b[0;34m.\u001b[0m\u001b[0mtrain\u001b[0m\u001b[0;34m(\u001b[0m\u001b[0mq_loss\u001b[0m\u001b[0;34m,\u001b[0m \u001b[0mq_optimizer\u001b[0m\u001b[0;34m)\u001b[0m\u001b[0;34m\u001b[0m\u001b[0m\n\u001b[1;32m     45\u001b[0m                     \u001b[0mactor\u001b[0m\u001b[0;34m.\u001b[0m\u001b[0mtrain\u001b[0m\u001b[0;34m(\u001b[0m\u001b[0mactor_loss\u001b[0m\u001b[0;34m,\u001b[0m \u001b[0mactor_optimizer\u001b[0m\u001b[0;34m)\u001b[0m\u001b[0;34m\u001b[0m\u001b[0m\n",
      "\u001b[0;32m~/continuousCVI/SAC/model.py\u001b[0m in \u001b[0;36mtrain\u001b[0;34m(self, loss, optimizer)\u001b[0m\n\u001b[1;32m     99\u001b[0m     \u001b[0;32mdef\u001b[0m \u001b[0mtrain\u001b[0m\u001b[0;34m(\u001b[0m\u001b[0mself\u001b[0m\u001b[0;34m,\u001b[0m \u001b[0mloss\u001b[0m\u001b[0;34m,\u001b[0m \u001b[0moptimizer\u001b[0m\u001b[0;34m)\u001b[0m\u001b[0;34m:\u001b[0m\u001b[0;34m\u001b[0m\u001b[0m\n\u001b[1;32m    100\u001b[0m         \u001b[0moptimizer\u001b[0m\u001b[0;34m.\u001b[0m\u001b[0mzero_grad\u001b[0m\u001b[0;34m(\u001b[0m\u001b[0;34m)\u001b[0m\u001b[0;34m\u001b[0m\u001b[0m\n\u001b[0;32m--> 101\u001b[0;31m         \u001b[0mloss\u001b[0m\u001b[0;34m.\u001b[0m\u001b[0mbackward\u001b[0m\u001b[0;34m(\u001b[0m\u001b[0;34m)\u001b[0m\u001b[0;34m\u001b[0m\u001b[0m\n\u001b[0m\u001b[1;32m    102\u001b[0m         \u001b[0moptimizer\u001b[0m\u001b[0;34m.\u001b[0m\u001b[0mstep\u001b[0m\u001b[0;34m(\u001b[0m\u001b[0;34m)\u001b[0m\u001b[0;34m\u001b[0m\u001b[0m\n\u001b[1;32m    103\u001b[0m \u001b[0;34m\u001b[0m\u001b[0m\n",
      "\u001b[0;32m~/ML/lib/python3.5/site-packages/torch/tensor.py\u001b[0m in \u001b[0;36mbackward\u001b[0;34m(self, gradient, retain_graph, create_graph)\u001b[0m\n\u001b[1;32m     91\u001b[0m                 \u001b[0mproducts\u001b[0m\u001b[0;34m.\u001b[0m \u001b[0mDefaults\u001b[0m \u001b[0mto\u001b[0m\u001b[0;31m \u001b[0m\u001b[0;31m`\u001b[0m\u001b[0;31m`\u001b[0m\u001b[0;32mFalse\u001b[0m\u001b[0;31m`\u001b[0m\u001b[0;31m`\u001b[0m\u001b[0;34m.\u001b[0m\u001b[0;34m\u001b[0m\u001b[0m\n\u001b[1;32m     92\u001b[0m         \"\"\"\n\u001b[0;32m---> 93\u001b[0;31m         \u001b[0mtorch\u001b[0m\u001b[0;34m.\u001b[0m\u001b[0mautograd\u001b[0m\u001b[0;34m.\u001b[0m\u001b[0mbackward\u001b[0m\u001b[0;34m(\u001b[0m\u001b[0mself\u001b[0m\u001b[0;34m,\u001b[0m \u001b[0mgradient\u001b[0m\u001b[0;34m,\u001b[0m \u001b[0mretain_graph\u001b[0m\u001b[0;34m,\u001b[0m \u001b[0mcreate_graph\u001b[0m\u001b[0;34m)\u001b[0m\u001b[0;34m\u001b[0m\u001b[0m\n\u001b[0m\u001b[1;32m     94\u001b[0m \u001b[0;34m\u001b[0m\u001b[0m\n\u001b[1;32m     95\u001b[0m     \u001b[0;32mdef\u001b[0m \u001b[0mregister_hook\u001b[0m\u001b[0;34m(\u001b[0m\u001b[0mself\u001b[0m\u001b[0;34m,\u001b[0m \u001b[0mhook\u001b[0m\u001b[0;34m)\u001b[0m\u001b[0;34m:\u001b[0m\u001b[0;34m\u001b[0m\u001b[0m\n",
      "\u001b[0;32m~/ML/lib/python3.5/site-packages/torch/autograd/__init__.py\u001b[0m in \u001b[0;36mbackward\u001b[0;34m(tensors, grad_tensors, retain_graph, create_graph, grad_variables)\u001b[0m\n\u001b[1;32m     88\u001b[0m     Variable._execution_engine.run_backward(\n\u001b[1;32m     89\u001b[0m         \u001b[0mtensors\u001b[0m\u001b[0;34m,\u001b[0m \u001b[0mgrad_tensors\u001b[0m\u001b[0;34m,\u001b[0m \u001b[0mretain_graph\u001b[0m\u001b[0;34m,\u001b[0m \u001b[0mcreate_graph\u001b[0m\u001b[0;34m,\u001b[0m\u001b[0;34m\u001b[0m\u001b[0m\n\u001b[0;32m---> 90\u001b[0;31m         allow_unreachable=True)  # allow_unreachable flag\n\u001b[0m\u001b[1;32m     91\u001b[0m \u001b[0;34m\u001b[0m\u001b[0m\n\u001b[1;32m     92\u001b[0m \u001b[0;34m\u001b[0m\u001b[0m\n",
      "\u001b[0;31mKeyboardInterrupt\u001b[0m: "
     ]
    }
   ],
   "source": [
    "if __name__ == '__main__':\n",
    "    from argparse import ArgumentParser\n",
    "    argparser = ArgumentParser()\n",
    "    argparser.add_argument('-b', '--buffer', default=int(1000000), help='Buffer size (default: 1000000).')\n",
    "    \n",
    "   \n",
    "    argparser.add_argument('-f', '--freq', default=int(500), help='An evaluation episode is done at every _freq_ step.')\n",
    "    argparser.add_argument('-m', '--max', default=int(500), help='Max number of steps (default: 500).')\n",
    "    argparser.add_argument('-n', '--n_exp', default=int(20), help='Number of experiments (default: 20).')\n",
    "    argparser.add_argument('-d', '--discount', default=float(0.99), help='Discount factor, gamma (default: 0.99).')\n",
    "    argparser.add_argument('-e', '--env', default=str('Pendulum-v0'), help='ID of gym environment (default: Pendulum-v0).')\n",
    "    argparser.add_argument('-p', '--n_epi', default=int(1000), help='Number of episodes (defualt: 1000).')\n",
    "    arg = argparser.parse_args()\n",
    "    main(arg)"
   ]
  },
  {
   "cell_type": "code",
   "execution_count": null,
   "metadata": {},
   "outputs": [],
   "source": []
  },
  {
   "cell_type": "code",
   "execution_count": null,
   "metadata": {},
   "outputs": [],
   "source": []
  },
  {
   "cell_type": "code",
   "execution_count": null,
   "metadata": {},
   "outputs": [],
   "source": []
  },
  {
   "cell_type": "code",
   "execution_count": null,
   "metadata": {},
   "outputs": [],
   "source": []
  },
  {
   "cell_type": "code",
   "execution_count": null,
   "metadata": {},
   "outputs": [],
   "source": []
  },
  {
   "cell_type": "code",
   "execution_count": null,
   "metadata": {},
   "outputs": [],
   "source": []
  },
  {
   "cell_type": "code",
   "execution_count": null,
   "metadata": {},
   "outputs": [],
   "source": []
  }
 ],
 "metadata": {
  "kernelspec": {
   "display_name": "Python 3",
   "language": "python",
   "name": "python3"
  },
  "language_info": {
   "codemirror_mode": {
    "name": "ipython",
    "version": 3
   },
   "file_extension": ".py",
   "mimetype": "text/x-python",
   "name": "python",
   "nbconvert_exporter": "python",
   "pygments_lexer": "ipython3",
   "version": "3.5.2"
  }
 },
 "nbformat": 4,
 "nbformat_minor": 2
}
